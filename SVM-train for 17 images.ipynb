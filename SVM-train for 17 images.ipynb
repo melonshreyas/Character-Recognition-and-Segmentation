{
 "cells": [
  {
   "cell_type": "code",
   "execution_count": 3,
   "metadata": {},
   "outputs": [
    {
     "name": "stdout",
     "output_type": "stream",
     "text": [
      "reading data\n",
      "reading data completed\n",
      "Cross Validation Result for  15  -fold\n",
      "[100.          85.29411765  73.52941176  97.05882353  85.29411765\n",
      "  97.05882353  85.29411765  94.11764706  52.94117647  73.52941176\n",
      "  88.23529412  79.41176471  82.35294118  94.11764706  26.47058824]\n",
      "training model\n",
      "model trained.saving model..\n",
      "model saved\n"
     ]
    }
   ],
   "source": [
    "import os\n",
    "import numpy as np\n",
    "import cv2\n",
    "from sklearn.svm import SVC\n",
    "from sklearn.model_selection import cross_val_score\n",
    "from sklearn.externals import joblib\n",
    "from skimage.io import imread\n",
    "from skimage.filters import threshold_otsu\n",
    "\n",
    "letters = [\n",
    "            '0', '1', '2', '3', '4', '5', '6', '7', '8', '9', 'A', 'B', 'C', 'D',\n",
    "            'E', 'F', 'G', 'H', 'J', 'K', 'L', 'M', 'N', 'P', 'Q', 'R', 'S', 'T',\n",
    "            'U', 'V', 'W', 'X', 'Y', 'Z'\n",
    "        ]\n",
    "#Read the Data\n",
    "def read_training_data(training_directory):\n",
    "    image_data = []\n",
    "    target_data = []\n",
    "    for each_letter in letters:\n",
    "        for each in range(16):\n",
    "            image_path = os.path.join(training_directory, each_letter,each_letter+ '-' + str(each) + '.jpg')\n",
    "            # read each image of each character\n",
    "            img_details = cv2.imread(image_path,0)\n",
    "            # converts each character image to binary image\n",
    "            ret,binary_image = cv2.threshold(img_details,100,255,cv2.THRESH_BINARY)  \n",
    "            flat_bin_image = binary_image.reshape(-1)\n",
    "            image_data.append(flat_bin_image)\n",
    "            target_data.append(each_letter)\n",
    "\n",
    "    return (np.array(image_data), np.array(target_data))\n",
    "\n",
    "def cross_validation(model, num_of_fold, train_data, train_label):\n",
    "\n",
    "    accuracy_result = cross_val_score(model, train_data, train_label,\n",
    "                                      cv=num_of_fold)\n",
    "    print(\"Cross Validation Result for \", str(num_of_fold), \" -fold\")\n",
    "\n",
    "    print(accuracy_result * 100)\n",
    "\n",
    "\n",
    "\n",
    "print('reading data')\n",
    "training_dataset_dir = 'Traning'\n",
    "image_data, target_data = read_training_data(training_dataset_dir)\n",
    "print('reading data completed')\n",
    "\n",
    "\n",
    "svc_model = SVC(kernel='linear', probability=True)\n",
    "\n",
    "cross_validation(svc_model,15,image_data, target_data)\n",
    "\n",
    "print('training model')\n",
    "\n",
    "# let's train the model with all the input data\n",
    "svc_model.fit(image_data,target_data)\n",
    "\n",
    "#Save Model\n",
    "\n",
    "import pickle\n",
    "print(\"model trained.saving model..\")\n",
    "filename = 'character_model_svm_success.sav'\n",
    "filename1 = 'character_model_svm_final.sav'\n",
    "pickle.dump(svc_model, open(filename, 'wb'))\n",
    "pickle.dump(svc_model, open(filename1, 'wb'))\n",
    "print(\"model saved\")\n",
    "\n"
   ]
  },
  {
   "cell_type": "code",
   "execution_count": null,
   "metadata": {},
   "outputs": [],
   "source": []
  }
 ],
 "metadata": {
  "kernelspec": {
   "display_name": "Python 3",
   "language": "python",
   "name": "python3"
  },
  "language_info": {
   "codemirror_mode": {
    "name": "ipython",
    "version": 3
   },
   "file_extension": ".py",
   "mimetype": "text/x-python",
   "name": "python",
   "nbconvert_exporter": "python",
   "pygments_lexer": "ipython3",
   "version": "3.6.6"
  }
 },
 "nbformat": 4,
 "nbformat_minor": 2
}
