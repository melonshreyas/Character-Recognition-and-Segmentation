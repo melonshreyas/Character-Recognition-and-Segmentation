{
 "cells": [
  {
   "cell_type": "code",
   "execution_count": 83,
   "metadata": {},
   "outputs": [
    {
     "name": "stdout",
     "output_type": "stream",
     "text": [
      "Classification result\n",
      "[array(['P'], dtype='<U1')]\n"
     ]
    }
   ],
   "source": [
    "import pickle\n",
    "import matplotlib\n",
    "from sklearn.externals import joblib\n",
    "import numpy as np\n",
    "from scipy import misc\n",
    "from skimage.io import imread\n",
    "from skimage.filters import threshold_otsu\n",
    "from skimage import measure\n",
    "from skimage.measure import regionprops\n",
    "import pickle\n",
    "import matplotlib.pyplot as plt\n",
    "import matplotlib.patches as patches\n",
    "from skimage.transform import resize\n",
    "import cv2\n",
    "import os\n",
    "filename = 'character_model_svm1.sav'\n",
    "model = pickle.load(open(filename, 'rb'))\n",
    "\n",
    "classification_result = []\n",
    "# characters = session['plate_characters']\n",
    "each_character=cv2.imread('P.jpg',0)\n",
    "# converts it to a 1D array\n",
    "each_character=each_character.reshape(1, -1);\n",
    "result = model.predict(each_character)\n",
    "classification_result.append(result)\n",
    "print('Classification result')\n",
    "print(classification_result)\n"
   ]
  },
  {
   "cell_type": "code",
   "execution_count": null,
   "metadata": {},
   "outputs": [],
   "source": []
  }
 ],
 "metadata": {
  "kernelspec": {
   "display_name": "Python 3",
   "language": "python",
   "name": "python3"
  },
  "language_info": {
   "codemirror_mode": {
    "name": "ipython",
    "version": 3
   },
   "file_extension": ".py",
   "mimetype": "text/x-python",
   "name": "python",
   "nbconvert_exporter": "python",
   "pygments_lexer": "ipython3",
   "version": "3.6.6"
  }
 },
 "nbformat": 4,
 "nbformat_minor": 2
}
